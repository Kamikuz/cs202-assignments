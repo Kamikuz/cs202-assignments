{
 "cells": [
  {
   "cell_type": "markdown",
   "metadata": {},
   "source": [
    "# CS202: Compiler Construction\n",
    "\n",
    "## In-class Exercises, Week of 01/24/2022"
   ]
  },
  {
   "cell_type": "markdown",
   "metadata": {},
   "source": [
    "----\n",
    "# PART I: Lmin language & interpreter; x86 ASTs"
   ]
  },
  {
   "cell_type": "markdown",
   "metadata": {},
   "source": [
    "## Question 1\n",
    "\n",
    "Write code to parse the following `Lmin` program and print out its abstract syntax tree."
   ]
  },
  {
   "cell_type": "code",
   "execution_count": 1,
   "metadata": {},
   "outputs": [],
   "source": [
    "from ast import *\n",
    "from cs202_support.base_ast import print_ast\n",
    "\n",
    "program = \"print(42)\""
   ]
  },
  {
   "cell_type": "code",
   "execution_count": 2,
   "metadata": {},
   "outputs": [
    {
     "name": "stdout",
     "output_type": "stream",
     "text": [
      "Module(\n",
      " [\n",
      "  Expr(\n",
      "   Call(\n",
      "    Name(\n",
      "     \"print\",\n",
      "     Load()),\n",
      "    [\n",
      "     Constant(\n",
      "      42,\n",
      "      None)\n",
      "    ],\n",
      "    []))\n",
      " ],\n",
      " [])\n"
     ]
    }
   ],
   "source": [
    "ast = parse(program)\n",
    "print(print_ast(ast))"
   ]
  },
  {
   "cell_type": "markdown",
   "metadata": {},
   "source": [
    "## Question 2\n",
    "\n",
    "Write an interpreter `eval_lmin` for the `Lmin` language."
   ]
  },
  {
   "cell_type": "code",
   "execution_count": 3,
   "metadata": {},
   "outputs": [
    {
     "name": "stdout",
     "output_type": "stream",
     "text": [
      "42\n"
     ]
    }
   ],
   "source": [
    "def eval_lmin(program):\n",
    "  match program:\n",
    "    case Module([Expr(Call(Name('print'), [Constant(number, None)]))]):\n",
    "      print(print_ast(number))\n",
    "    case _:\n",
    "      print(print_ast(ast))\n",
    "      raise Exception('eval_lmin', program)\n",
    "\n",
    "\n",
    "eval_lmin(ast)"
   ]
  },
  {
   "cell_type": "markdown",
   "metadata": {},
   "source": [
    "## Question 3\n",
    "\n",
    "Write code to generate a *pseudo-x86 abstract syntax tree* for the `start` block for the program above.\n",
    "\n",
    "Hint: reference the [pseudo-x86 AST class hierarchy](https://github.com/jnear/cs202-assignments/blob/master/cs202_support/x86exp.py). Debug your solution using the online compiler's output for the `select instructions` pass."
   ]
  },
  {
   "cell_type": "code",
   "execution_count": 4,
   "metadata": {},
   "outputs": [
    {
     "name": "stdout",
     "output_type": "stream",
     "text": [
      "Program(\n",
      " {\n",
      "  'start':\n",
      "   [\n",
      "    NamedInstr(\n",
      "     \"movq\",\n",
      "     [\n",
      "      Immediate(42),\n",
      "      Reg(\"rdi\")\n",
      "     ]),\n",
      "    Callq(\"print_int\"),\n",
      "    Jmp(\"conclusion\")\n",
      "   ]\n",
      " })\n"
     ]
    }
   ],
   "source": [
    "import cs202_support.x86exp as x86\n",
    "\n",
    "ast = x86.Program(\n",
    "  {\n",
    "    'start':\n",
    "      [\n",
    "        x86.NamedInstr('movq', [x86.Immediate(42), x86.Reg('rdi')]),\n",
    "        x86.Callq('print_int'),\n",
    "        x86.Jmp('conclusion')\n",
    "      ]\n",
    "  }\n",
    ")\n",
    "\n",
    "print(print_ast(ast))"
   ]
  },
  {
   "cell_type": "markdown",
   "metadata": {},
   "source": [
    "# Part II: Passes of the Compiler"
   ]
  },
  {
   "cell_type": "markdown",
   "metadata": {},
   "source": [
    "## Question 4\n",
    "\n",
    "What is the purpose of the `select_instructions` pass of the compiler? How should it be implemented?"
   ]
  },
  {
   "cell_type": "markdown",
   "metadata": {},
   "source": [
    "The select instructions pass converts a Lmin program into an x86 program.\n",
    "\n",
    "It should make this transformation by pattern matching on the *only* type of program allowed in Lmin, and returing an x86 AST that uses movq and callq instructions with the same functionality."
   ]
  },
  {
   "cell_type": "markdown",
   "metadata": {},
   "source": [
    "## Question 5\n",
    "\n",
    "What is the purpose of the `print_x86` pass of the compiler? How should it be implemented?"
   ]
  },
  {
   "cell_type": "markdown",
   "metadata": {},
   "source": [
    "The print_x86 pass converts an x86 AST into a string.\n",
    "\n",
    "The pass should be implemented as a set of recursive functions that pattern match on different components of the x86 AST.\n",
    "- reg\n",
    "- arg\n",
    "- instr\n",
    "- program\n",
    "\n",
    "Each function will contain pattern match cases corresponding to the terminals that category of the grammar."
   ]
  },
  {
   "cell_type": "markdown",
   "metadata": {},
   "source": [
    "# Part III: Lvar"
   ]
  },
  {
   "cell_type": "markdown",
   "metadata": {},
   "source": [
    "## Question 6\n",
    "\n",
    "Write an interpreter `eval_lvar` for the `Lvar` language. Reference the grammar: Figure 2.2 (page 14) in the textbook."
   ]
  },
  {
   "cell_type": "code",
   "execution_count": 17,
   "metadata": {},
   "outputs": [],
   "source": [
    "from typing import Dict\n",
    "\n",
    "\n",
    "def eval_lvar(program: Module):\n",
    "  def eval_exp(e: expr, env: Dict[str, int]) -> int:\n",
    "    match e:\n",
    "      case Name(var):\n",
    "        return env[var]\n",
    "      case Constant(i):\n",
    "        return i\n",
    "      case BinOp(e1, Add(), e2):\n",
    "        v1 = eval_exp(e1, env)\n",
    "        v2 = eval_exp(e2, env)\n",
    "        return v1 + v2\n",
    "      case _:\n",
    "        print('found expr', print_ast(e))\n",
    "\n",
    "  def eval_stmt(s: stmt, env: Dict[str, int]):\n",
    "    match s:\n",
    "      case Assign([Name(var)], exp):\n",
    "        val = eval_exp(exp, env)\n",
    "        env[var] = val\n",
    "      case Expr(Call(Name('print'), [exp])):\n",
    "        val = eval_exp(exp, env)\n",
    "        print(val)\n",
    "      case _:\n",
    "        print('found a statement')\n",
    "        print(print_ast(s))\n",
    "\n",
    "  env = {}\n",
    "  match program:\n",
    "    case Module(stmts):\n",
    "      for s in stmts:\n",
    "        eval_stmt(s, env)\n",
    "    case _:\n",
    "      print(print_ast(program))"
   ]
  },
  {
   "cell_type": "code",
   "execution_count": 18,
   "metadata": {},
   "outputs": [
    {
     "name": "stdout",
     "output_type": "stream",
     "text": [
      "11\n"
     ]
    }
   ],
   "source": [
    "# TEST CASE\n",
    "program = \"\"\"\n",
    "x = 5\n",
    "y = 6\n",
    "print(x + y)\"\"\"\n",
    "\n",
    "eval_lvar(parse(program))"
   ]
  },
  {
   "cell_type": "markdown",
   "metadata": {},
   "source": [
    "----\n",
    "# PART IV: Remove Complex Operands"
   ]
  },
  {
   "cell_type": "markdown",
   "metadata": {},
   "source": [
    "## Question 7\n",
    "\n",
    "Consider this translation of an expression to assembly language. What is wrong with it?"
   ]
  },
  {
   "cell_type": "code",
   "execution_count": 44,
   "metadata": {},
   "outputs": [],
   "source": [
    "python = \"\"\"\n",
    "x = 1 + 2 + 3\n",
    "\"\"\"\n",
    "\n",
    "asm = \"\"\"\n",
    "movq $2, %rax\n",
    "addq $1, (addq $3, %rax)\n",
    "\"\"\""
   ]
  },
  {
   "cell_type": "markdown",
   "metadata": {},
   "source": [
    "- The python code has nested expressions\n",
    "- X86 Assembly does not allow nested expressions (or expressions of any kind). It has instructions only\n",
    "- The instruction `(addq $3, %rax)` is not allowed to be an argument to another instruction"
   ]
  },
  {
   "cell_type": "markdown",
   "metadata": {},
   "source": [
    "## Question 8\n",
    "\n",
    "Which AST nodes in the language `Lvar` are **atomic**?"
   ]
  },
  {
   "cell_type": "markdown",
   "metadata": {},
   "source": [
    "- Constants\n",
    "- Variables"
   ]
  },
  {
   "cell_type": "markdown",
   "metadata": {},
   "source": [
    "## Question 9\n",
    "\n",
    "Why do we need this pass? What is the form of its output?"
   ]
  },
  {
   "cell_type": "markdown",
   "metadata": {},
   "source": [
    "The remove-complex-operands pass un-nests expressions to ensure that all arguments are atomic.\n",
    "\n",
    "We need it because x86 assembly only supports atomic things as arguments to instructions.\n",
    "\n",
    "The output of RCO is in Administrative Normal Form(A-normal form) - arguments to all operations are atomic"
   ]
  },
  {
   "cell_type": "markdown",
   "metadata": {},
   "source": [
    "## Question 10\n",
    "\n",
    "Convert the program from earlier into A-normal form."
   ]
  },
  {
   "cell_type": "code",
   "execution_count": 45,
   "metadata": {},
   "outputs": [],
   "source": [
    "python = \"\"\"\n",
    "x = 1 + 2 + 3\n",
    "\"\"\""
   ]
  },
  {
   "cell_type": "code",
   "execution_count": 46,
   "metadata": {},
   "outputs": [],
   "source": [
    "python_anf = \"\"\"\n",
    "<<YOUR ANSWER>>\n",
    "\"\"\""
   ]
  },
  {
   "cell_type": "markdown",
   "metadata": {},
   "source": [
    "## Question 11\n",
    "\n",
    "Describe a recursive procedure to perform the *remove-complex-opera* pass. Reference section 2.4 in the textbook."
   ]
  },
  {
   "cell_type": "markdown",
   "metadata": {},
   "source": [
    "<<YOUR ANSWER>>"
   ]
  }
 ],
 "metadata": {
  "kernelspec": {
   "display_name": "Python 3 (ipykernel)",
   "language": "python",
   "name": "python3"
  },
  "language_info": {
   "codemirror_mode": {
    "name": "ipython",
    "version": 3
   },
   "file_extension": ".py",
   "mimetype": "text/x-python",
   "name": "python",
   "nbconvert_exporter": "python",
   "pygments_lexer": "ipython3",
   "version": "3.10.0"
  }
 },
 "nbformat": 4,
 "nbformat_minor": 2
}