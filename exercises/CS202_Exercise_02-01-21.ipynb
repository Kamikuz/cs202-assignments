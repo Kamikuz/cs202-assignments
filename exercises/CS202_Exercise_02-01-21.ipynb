{
 "cells": [
  {
   "cell_type": "markdown",
   "metadata": {},
   "source": [
    "# CS202: Compiler Construction\n",
    "\n",
    "## In-class Exercises, Week of 02/01/2021"
   ]
  },
  {
   "cell_type": "markdown",
   "metadata": {},
   "source": [
    "----\n",
    "# PART I: Abstract Syntax Trees"
   ]
  },
  {
   "cell_type": "markdown",
   "metadata": {},
   "source": [
    "## Question 1\n",
    "\n",
    "The following grammar defines the *concrete syntax* for a language of integer arithmetic (numbers and the \"plus\" operator).\n",
    "\n",
    "\\begin{align*}\n",
    "exp &::= n \\\\\n",
    "&\\mid exp + exp\n",
    "\\end{align*}\n",
    "\n",
    "The following class hierarchy defines an *abstract syntax* for the same language."
   ]
  },
  {
   "cell_type": "code",
   "execution_count": 1,
   "metadata": {},
   "outputs": [],
   "source": [
    "from cs202_support.base_ast import AST, print_ast\n",
    "from dataclasses import dataclass\n",
    "\n",
    "@dataclass\n",
    "class RIntExp(AST):\n",
    "    pass\n",
    "\n",
    "@dataclass\n",
    "class Int(RIntExp):\n",
    "    val: int\n",
    "\n",
    "@dataclass\n",
    "class Plus(RIntExp):\n",
    "    e1: RIntExp\n",
    "    e2: RIntExp"
   ]
  },
  {
   "cell_type": "markdown",
   "metadata": {},
   "source": [
    "Write an abstract syntax tree for the expression `1 + 2 + 3`."
   ]
  },
  {
   "cell_type": "code",
   "execution_count": 2,
   "metadata": {},
   "outputs": [
    {
     "name": "stdout",
     "output_type": "stream",
     "text": [
      "Plus(\n",
      " Int(1),\n",
      " Plus(\n",
      "  Int(2),\n",
      "  Int(3)))\n"
     ]
    }
   ],
   "source": [
    "ast = Plus(Int(1), Plus(Int(2), Int(3)))\n",
    "print(print_ast(ast))"
   ]
  },
  {
   "cell_type": "markdown",
   "metadata": {},
   "source": [
    "## Question 2\n",
    "\n",
    "The code below defines a parser that transforms concrete syntax for this simple language into abstract syntax trees."
   ]
  },
  {
   "cell_type": "code",
   "execution_count": 8,
   "metadata": {},
   "outputs": [],
   "source": [
    "from lark import Lark\n",
    "_rint_parser = Lark(r\"\"\"\n",
    "    ?exp: NUMBER -> int_e\n",
    "        | exp \"+\" exp -> plus_e\n",
    "        | \"(\" exp \")\"\n",
    "    %import common.NUMBER\n",
    "    %import common.CNAME\n",
    "    %import common.WS\n",
    "    %ignore WS\n",
    "    \"\"\", start='exp')\n",
    "\n",
    "def parse(s):\n",
    "    def t_ast(e):\n",
    "        if e.data == 'int_e':\n",
    "            return Int(int(e.children[0]))\n",
    "        elif e.data == 'plus_e':\n",
    "            e1, e2 = e.children\n",
    "            return Plus(t_ast(e1), t_ast(e2))\n",
    "\n",
    "    parsed = _rint_parser.parse(s)\n",
    "    ast = t_ast(parsed)\n",
    "    return ast"
   ]
  },
  {
   "cell_type": "markdown",
   "metadata": {},
   "source": [
    "Write code to use the parser above to parse the expression `1 + 2 + 3` into an abstract syntax tree."
   ]
  },
  {
   "cell_type": "code",
   "execution_count": 4,
   "metadata": {},
   "outputs": [
    {
     "name": "stdout",
     "output_type": "stream",
     "text": [
      "Plus(\n",
      " Int(1),\n",
      " Plus(\n",
      "  Int(2),\n",
      "  Int(3)))\n"
     ]
    }
   ],
   "source": [
    "ast = parse('1 + 2 + 3')\n",
    "print(print_ast(ast))"
   ]
  },
  {
   "cell_type": "code",
   "execution_count": 5,
   "outputs": [
    {
     "data": {
      "text/plain": "<ast.Module at 0x1c74d477790>"
     },
     "execution_count": 5,
     "metadata": {},
     "output_type": "execute_result"
    }
   ],
   "source": [
    "from ast import parse\n",
    "parse('print(3)')"
   ],
   "metadata": {
    "collapsed": false,
    "pycharm": {
     "name": "#%%\n"
    }
   }
  },
  {
   "cell_type": "markdown",
   "metadata": {},
   "source": [
    "## Question 3\n",
    "\n",
    "Write an *interpreter* for this language.\n",
    "\n",
    "**The structure of your function should follow the structure of the AST**"
   ]
  },
  {
   "cell_type": "code",
   "execution_count": 6,
   "metadata": {},
   "outputs": [],
   "source": [
    "def eval_rint(e: RIntExp) -> int:\n",
    "    # structure should match AST structure\n",
    "    # 1. want match case for each AST node type\n",
    "    # 2. want to make recursive calls for every subexpression\n",
    "    match e:\n",
    "        case Int(i):\n",
    "            # i => e.val\n",
    "            return i\n",
    "        case Plus(e1, e2):\n",
    "            # e1 => e.e1, e2 => e.e2\n",
    "            return eval_rint(e1) + eval_rint(e2)"
   ]
  },
  {
   "cell_type": "code",
   "execution_count": 9,
   "metadata": {},
   "outputs": [],
   "source": [
    "# TEST CASE\n",
    "assert eval_rint(parse('1 + 2 + 3')) == 6\n",
    "assert eval_rint(parse('42 + 20 + 10 + 5 + 5')) == 82"
   ]
  },
  {
   "cell_type": "markdown",
   "metadata": {},
   "source": [
    "----\n",
    "# PART II: x86 Assembly"
   ]
  },
  {
   "cell_type": "code",
   "execution_count": 10,
   "metadata": {},
   "outputs": [],
   "source": [
    "from cs202_support.eval_x86 import X86Emulator"
   ]
  },
  {
   "cell_type": "markdown",
   "metadata": {},
   "source": [
    "## Question 4\n",
    "\n",
    "Write x86 assembly code to add the numbers 1 and 2, putting the result in the register `rax`."
   ]
  },
  {
   "cell_type": "code",
   "execution_count": 11,
   "metadata": {},
   "outputs": [
    {
     "data": {
      "text/plain": "  Location   Old  New\n0  reg rax  None    3",
      "text/html": "<div>\n<style scoped>\n    .dataframe tbody tr th:only-of-type {\n        vertical-align: middle;\n    }\n\n    .dataframe tbody tr th {\n        vertical-align: top;\n    }\n\n    .dataframe thead th {\n        text-align: right;\n    }\n</style>\n<table border=\"1\" class=\"dataframe\">\n  <thead>\n    <tr style=\"text-align: right;\">\n      <th></th>\n      <th>Location</th>\n      <th>Old</th>\n      <th>New</th>\n    </tr>\n  </thead>\n  <tbody>\n    <tr>\n      <th>0</th>\n      <td>reg rax</td>\n      <td>None</td>\n      <td>3</td>\n    </tr>\n  </tbody>\n</table>\n</div>"
     },
     "execution_count": 11,
     "metadata": {},
     "output_type": "execute_result"
    }
   ],
   "source": [
    "emu = X86Emulator(logging = False)\n",
    "emu.eval_instructions(\"\"\"\n",
    "movq $1, %rax\n",
    "addq $2, %rax\"\"\")"
   ]
  },
  {
   "cell_type": "markdown",
   "metadata": {},
   "source": [
    "## Question 5 \n",
    "\n",
    "Write x86 assembly code to add the numbers 1, 2, 3, and 4, putting the result in the register `rdi`."
   ]
  },
  {
   "cell_type": "code",
   "execution_count": 12,
   "metadata": {},
   "outputs": [
    {
     "data": {
      "text/plain": "  Location   Old  New\n0  reg rdi  None   10",
      "text/html": "<div>\n<style scoped>\n    .dataframe tbody tr th:only-of-type {\n        vertical-align: middle;\n    }\n\n    .dataframe tbody tr th {\n        vertical-align: top;\n    }\n\n    .dataframe thead th {\n        text-align: right;\n    }\n</style>\n<table border=\"1\" class=\"dataframe\">\n  <thead>\n    <tr style=\"text-align: right;\">\n      <th></th>\n      <th>Location</th>\n      <th>Old</th>\n      <th>New</th>\n    </tr>\n  </thead>\n  <tbody>\n    <tr>\n      <th>0</th>\n      <td>reg rdi</td>\n      <td>None</td>\n      <td>10</td>\n    </tr>\n  </tbody>\n</table>\n</div>"
     },
     "execution_count": 12,
     "metadata": {},
     "output_type": "execute_result"
    }
   ],
   "source": [
    "emu = X86Emulator(logging = False)\n",
    "emu.eval_instructions(\"\"\"\n",
    "movq $1, %rdi\n",
    "addq $2, %rdi\n",
    "addq $3, %rdi\n",
    "addq $4, %rdi\"\"\")"
   ]
  },
  {
   "cell_type": "markdown",
   "metadata": {},
   "source": [
    "## Question 6\n",
    "\n",
    "Write a complete x86 program to:\n",
    "\n",
    "- Place the number 42 in the register `rdi`\n",
    "- Call the function `print_int` in the runtime\n",
    "- Return cleanly to the operating system\n",
    "\n",
    "Hint: try using the [Assignment 1 online compiler](https://jnear.w3.uvm.edu/cs202/compiler-a1.php)."
   ]
  },
  {
   "cell_type": "code",
   "execution_count": 13,
   "metadata": {},
   "outputs": [
    {
     "data": {
      "text/plain": "[42]"
     },
     "execution_count": 13,
     "metadata": {},
     "output_type": "execute_result"
    }
   ],
   "source": [
    "emu = X86Emulator(logging = False)\n",
    "emu.eval_program(\"\"\"\n",
    ".globl main\n",
    "main:\n",
    "  pushq %rbp\n",
    "  movq %rsp, %rbp\n",
    "  jmp start\n",
    "start:\n",
    "  movq $42, %rdi\n",
    "  callq print_int\n",
    "  jmp conclusion\n",
    "conclusion:\n",
    "  movq $0, %rax\n",
    "  popq %rbp\n",
    "  retq\"\"\")"
   ]
  },
  {
   "cell_type": "markdown",
   "metadata": {},
   "source": [
    "## Question 7\n",
    "\n",
    "Write code to generate a *pseudo-x86 abstract syntax tree* for the `start` block in the program above.\n",
    "\n",
    "Hint: reference the [pseudo-x86 AST class hierarchy](https://github.com/jnear/cs202-assignments/blob/master/cs202_support/x86exp.py). Debug your solution using the online compiler's output for the `select instructions` pass."
   ]
  },
  {
   "cell_type": "code",
   "execution_count": 34,
   "metadata": {},
   "outputs": [
    {
     "name": "stdout",
     "output_type": "stream",
     "text": [
      "Program({\n",
      " 'start':\n",
      "  [\n",
      "   Movq(\n",
      "    Int(42),\n",
      "    Reg(rax)),\n",
      "   Jmp(conclusion)\n",
      "  ]\n",
      "})\n"
     ]
    }
   ],
   "source": [
    "import cs202_support.x86exp as x86\n",
    "\n",
    "ast = x86.Program({\n",
    "    'start': []\n",
    "})\n",
    "\n",
    "print(print_ast(ast))"
   ]
  }
 ],
 "metadata": {
  "kernelspec": {
   "display_name": "Python 3",
   "language": "python",
   "name": "python3"
  },
  "language_info": {
   "codemirror_mode": {
    "name": "ipython",
    "version": 3
   },
   "file_extension": ".py",
   "mimetype": "text/x-python",
   "name": "python",
   "nbconvert_exporter": "python",
   "pygments_lexer": "ipython3",
   "version": "3.7.7"
  }
 },
 "nbformat": 4,
 "nbformat_minor": 2
}