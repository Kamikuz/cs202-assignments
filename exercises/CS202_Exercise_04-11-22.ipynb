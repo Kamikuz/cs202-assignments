{
 "cells": [
  {
   "cell_type": "markdown",
   "metadata": {
    "pycharm": {
     "name": "#%% md\n"
    }
   },
   "source": [
    "# CS202: Compiler Construction\n",
    "\n",
    "## In-class Exercises, Week of 04/11/2022\n",
    "\n",
    "----"
   ]
  },
  {
   "cell_type": "code",
   "execution_count": 2,
   "metadata": {
    "pycharm": {
     "name": "#%%\n"
    }
   },
   "outputs": [],
   "source": [
    "from cs202_support.eval_x86 import X86Emulator\n",
    "\n",
    "init = \"\"\"\n",
    "  .globl main\n",
    "main:\n",
    "  movq $16384, %rdi\n",
    "  movq $16, %rsi\n",
    "  callq initialize\n",
    "  movq rootstack_begin(%rip), %r15\n",
    "\"\"\""
   ]
  },
  {
   "cell_type": "markdown",
   "metadata": {
    "pycharm": {
     "name": "#%% md\n"
    }
   },
   "source": [
    "----"
   ]
  },
  {
   "cell_type": "markdown",
   "metadata": {
    "pycharm": {
     "name": "#%% md\n"
    }
   },
   "source": [
    "# Part 1: select-instructions"
   ]
  },
  {
   "cell_type": "markdown",
   "metadata": {
    "pycharm": {
     "name": "#%% md\n"
    }
   },
   "source": [
    "## Question 1\n",
    "\n",
    "Write x86 instructions corresponding to the output of `select-instructions` on the following `assign` statement:\n",
    "\n",
    "```\n",
    "Assign(\"x\", Allocate(24, (int, int)))\n",
    "```"
   ]
  },
  {
   "cell_type": "markdown",
   "metadata": {
    "pycharm": {
     "name": "#%% md\n"
    }
   },
   "source": [
    "1. Store the current `free_ptr` in `x` as the location of the allocated tuple\n",
    "2. Increment `free_prt` by the size of the tuple\n",
    "3. Store the tuple's tag in its first location\n",
    "    - Move the tuple into %r11\n",
    "    - Move the tag into 0(%r11)\n",
    "\n",
    "```\n",
    "movq free_ptr(%rip), #x\n",
    "addq $24, free_ptr(%rip)\n",
    "movq #x, %r11\n",
    "movq $3, 0(%r11)\n",
    "```"
   ]
  },
  {
   "cell_type": "code",
   "execution_count": 3,
   "metadata": {
    "pycharm": {
     "name": "#%%\n"
    }
   },
   "outputs": [
    {
     "data": {
      "text/plain": "           Location                        Value\n0        mem 100000                            3\n1           reg rbp                         1000\n2           reg rsp                         1000\n3           reg rdi                        16384\n4           reg rsi                           16\n5           reg r15                         2000\n6           reg r11                       100000\n7             var x                       100000\n8              main  FunPointer(fun_name='main')\n9   rootstack_begin                         2000\n10    rootstack_end                        18384\n11         free_ptr                       100024\n12  fromspace_begin                       100000\n13    fromspace_end                       100016",
      "text/html": "<div>\n<style scoped>\n    .dataframe tbody tr th:only-of-type {\n        vertical-align: middle;\n    }\n\n    .dataframe tbody tr th {\n        vertical-align: top;\n    }\n\n    .dataframe thead th {\n        text-align: right;\n    }\n</style>\n<table border=\"1\" class=\"dataframe\">\n  <thead>\n    <tr style=\"text-align: right;\">\n      <th></th>\n      <th>Location</th>\n      <th>Value</th>\n    </tr>\n  </thead>\n  <tbody>\n    <tr>\n      <th>0</th>\n      <td>mem 100000</td>\n      <td>3</td>\n    </tr>\n    <tr>\n      <th>1</th>\n      <td>reg rbp</td>\n      <td>1000</td>\n    </tr>\n    <tr>\n      <th>2</th>\n      <td>reg rsp</td>\n      <td>1000</td>\n    </tr>\n    <tr>\n      <th>3</th>\n      <td>reg rdi</td>\n      <td>16384</td>\n    </tr>\n    <tr>\n      <th>4</th>\n      <td>reg rsi</td>\n      <td>16</td>\n    </tr>\n    <tr>\n      <th>5</th>\n      <td>reg r15</td>\n      <td>2000</td>\n    </tr>\n    <tr>\n      <th>6</th>\n      <td>reg r11</td>\n      <td>100000</td>\n    </tr>\n    <tr>\n      <th>7</th>\n      <td>var x</td>\n      <td>100000</td>\n    </tr>\n    <tr>\n      <th>8</th>\n      <td>main</td>\n      <td>FunPointer(fun_name='main')</td>\n    </tr>\n    <tr>\n      <th>9</th>\n      <td>rootstack_begin</td>\n      <td>2000</td>\n    </tr>\n    <tr>\n      <th>10</th>\n      <td>rootstack_end</td>\n      <td>18384</td>\n    </tr>\n    <tr>\n      <th>11</th>\n      <td>free_ptr</td>\n      <td>100024</td>\n    </tr>\n    <tr>\n      <th>12</th>\n      <td>fromspace_begin</td>\n      <td>100000</td>\n    </tr>\n    <tr>\n      <th>13</th>\n      <td>fromspace_end</td>\n      <td>100016</td>\n    </tr>\n  </tbody>\n</table>\n</div>"
     },
     "execution_count": 3,
     "metadata": {},
     "output_type": "execute_result"
    }
   ],
   "source": [
    "asm = init + \"\"\"\n",
    "movq free_ptr(%rip), #x\n",
    "addq $24, free_ptr(%rip)\n",
    "movq #x, %r11\n",
    "movq $3, 0(%r11)\n",
    "\"\"\"\n",
    "\n",
    "emu = X86Emulator(logging=False)\n",
    "emu.eval_program(asm)\n",
    "emu.print_state()"
   ]
  },
  {
   "cell_type": "markdown",
   "metadata": {
    "pycharm": {
     "name": "#%% md\n"
    }
   },
   "source": [
    "## Question 2\n",
    "\n",
    "Write x86 instructions corresponding to the output of `select-instructions` on the following statement:\n",
    "\n",
    "```\n",
    "Collect(16)\n",
    "```"
   ]
  },
  {
   "cell_type": "markdown",
   "metadata": {
    "pycharm": {
     "name": "#%% md\n"
    }
   },
   "source": [
    "1. Move the pointer to the root stack into %rdi\n",
    "2. Move the umber of bytes to collect into $rsi\n",
    "3. Call the `collect` function\n",
    "\n",
    "```\n",
    "movq %r15, %rdi\n",
    "movq $16, %rsi\n",
    "callq collect\n",
    "```"
   ]
  },
  {
   "cell_type": "markdown",
   "metadata": {
    "pycharm": {
     "name": "#%% md\n"
    }
   },
   "source": [
    "## Question 3\n",
    "\n",
    "Write x86 instructions corresponding to the output of `select-instructions` on the following statements:\n",
    "\n",
    "a. `Assign(\"y\", Subscript(\"x\", 0))`\n",
    "\n",
    "b. `Assign(Subscript(\"x\", 0), ConstantInt(1))`"
   ]
  },
  {
   "cell_type": "markdown",
   "metadata": {
    "pycharm": {
     "name": "#%% md\n"
    }
   },
   "source": [
    "a.\n",
    "1. Move the tuple into %r11\n",
    "2. Move the value at offset 8*(i+1) into the target variable\n",
    "\n",
    "```\n",
    "movq #x, %r11\n",
    "movq 8(%r11), #y\n",
    "```\n",
    "\n",
    "b.\n",
    "1. Move the tuple into %r11\n",
    "2. Move the value we want to write into offset 8*(i+1) relative to r11\n",
    "\n",
    "```\n",
    "movq #x, %r11\n",
    "movq $1, 8(%r11)\n",
    "```\n"
   ]
  },
  {
   "cell_type": "code",
   "execution_count": 7,
   "metadata": {
    "pycharm": {
     "name": "#%%\n"
    }
   },
   "outputs": [
    {
     "data": {
      "text/plain": "           Location                        Value\n0        mem 100000                            3\n1        mem 100008                            1\n2        mem 100016                            2\n3           reg rbp                         1000\n4           reg rsp                         1000\n5           reg rdi                        16384\n6           reg rsi                           16\n7           reg r15                         2000\n8           reg r11                       100000\n9             var x                       100000\n10            var y                            1\n11             main  FunPointer(fun_name='main')\n12  rootstack_begin                         2000\n13    rootstack_end                        18384\n14         free_ptr                       100024\n15  fromspace_begin                       100000\n16    fromspace_end                       100016",
      "text/html": "<div>\n<style scoped>\n    .dataframe tbody tr th:only-of-type {\n        vertical-align: middle;\n    }\n\n    .dataframe tbody tr th {\n        vertical-align: top;\n    }\n\n    .dataframe thead th {\n        text-align: right;\n    }\n</style>\n<table border=\"1\" class=\"dataframe\">\n  <thead>\n    <tr style=\"text-align: right;\">\n      <th></th>\n      <th>Location</th>\n      <th>Value</th>\n    </tr>\n  </thead>\n  <tbody>\n    <tr>\n      <th>0</th>\n      <td>mem 100000</td>\n      <td>3</td>\n    </tr>\n    <tr>\n      <th>1</th>\n      <td>mem 100008</td>\n      <td>1</td>\n    </tr>\n    <tr>\n      <th>2</th>\n      <td>mem 100016</td>\n      <td>2</td>\n    </tr>\n    <tr>\n      <th>3</th>\n      <td>reg rbp</td>\n      <td>1000</td>\n    </tr>\n    <tr>\n      <th>4</th>\n      <td>reg rsp</td>\n      <td>1000</td>\n    </tr>\n    <tr>\n      <th>5</th>\n      <td>reg rdi</td>\n      <td>16384</td>\n    </tr>\n    <tr>\n      <th>6</th>\n      <td>reg rsi</td>\n      <td>16</td>\n    </tr>\n    <tr>\n      <th>7</th>\n      <td>reg r15</td>\n      <td>2000</td>\n    </tr>\n    <tr>\n      <th>8</th>\n      <td>reg r11</td>\n      <td>100000</td>\n    </tr>\n    <tr>\n      <th>9</th>\n      <td>var x</td>\n      <td>100000</td>\n    </tr>\n    <tr>\n      <th>10</th>\n      <td>var y</td>\n      <td>1</td>\n    </tr>\n    <tr>\n      <th>11</th>\n      <td>main</td>\n      <td>FunPointer(fun_name='main')</td>\n    </tr>\n    <tr>\n      <th>12</th>\n      <td>rootstack_begin</td>\n      <td>2000</td>\n    </tr>\n    <tr>\n      <th>13</th>\n      <td>rootstack_end</td>\n      <td>18384</td>\n    </tr>\n    <tr>\n      <th>14</th>\n      <td>free_ptr</td>\n      <td>100024</td>\n    </tr>\n    <tr>\n      <th>15</th>\n      <td>fromspace_begin</td>\n      <td>100000</td>\n    </tr>\n    <tr>\n      <th>16</th>\n      <td>fromspace_end</td>\n      <td>100016</td>\n    </tr>\n  </tbody>\n</table>\n</div>"
     },
     "execution_count": 7,
     "metadata": {},
     "output_type": "execute_result"
    }
   ],
   "source": [
    "asm = init + \"\"\"\n",
    "movq free_ptr(%rip), #x\n",
    "addq $24, free_ptr(%rip)\n",
    "movq #x, %r11\n",
    "movq $3, 0(%r11)\n",
    "movq #x, %r11\n",
    "movq $1, 8(%r11)\n",
    "movq #x, %r11\n",
    "movq $2, 16(%r11)\n",
    "movq #x, %r11\n",
    "movq 8(%r11), #y\n",
    "\"\"\"\n",
    "\n",
    "emu = X86Emulator(logging=False)\n",
    "emu.eval_program(asm)\n",
    "emu.print_state()"
   ]
  },
  {
   "cell_type": "markdown",
   "metadata": {
    "pycharm": {
     "name": "#%% md\n"
    }
   },
   "source": [
    "----"
   ]
  },
  {
   "cell_type": "markdown",
   "metadata": {
    "pycharm": {
     "name": "#%% md\n"
    }
   },
   "source": [
    "# Part 2: register allocation"
   ]
  },
  {
   "cell_type": "markdown",
   "metadata": {
    "pycharm": {
     "name": "#%% md\n"
    }
   },
   "source": [
    "## Question 4\n",
    "\n",
    "Why do we need to ensure that tupled-valued variables are spilled when we call the collector? How can we accomplish this?"
   ]
  },
  {
   "cell_type": "markdown",
   "metadata": {
    "pycharm": {
     "name": "#%% md\n"
    }
   },
   "source": [
    "1. The collector looks for tuple-valued variables on the root stack, so all tuple-valued variables need to be spilled there in order for the collector to work.\n",
    "2. We will use our interference graph to make sure that tuple-valued variables live after a all to the collector interfere with *all registers*, so that the register allocator will force those variables into root stack locations.\n",
    "\n",
    "- interference graph will now contain registers\n",
    "- Register allocator will need to deal with registers int the interference graph"
   ]
  },
  {
   "cell_type": "markdown",
   "metadata": {
    "pycharm": {
     "name": "#%% md\n"
    }
   },
   "source": [
    "## Question 5\n",
    "\n",
    "How can we modify register allocation to ensure that tuple-valued variables get spilled to the root stack, and non-tuple-valued variables get spilled to the regular stack?"
   ]
  },
  {
   "cell_type": "markdown",
   "metadata": {
    "pycharm": {
     "name": "#%% md\n"
    }
   },
   "source": [
    "build-interference:\n",
    "- When you find a `callq collect` instruction:\n",
    "    - For each variable in the live-after set:\n",
    "        - If it is a tuple valued variable(VecVar):\n",
    "            - Add an edge between the variable and each register\n",
    "- For all `callq` instructions(including to collect), handle caller-saved registers:\n",
    "    - For each variable in the live-after set:\n",
    "        - Add and edge between the variable and each caller-saved register\n",
    "\n",
    "allocate-registers:\n",
    "- Need to make two major changes in the pass:\n",
    "    1. Change the graph coloring algorithm to pre-assign colors to register before coloring\n",
    "    2. In building `homes`, we need to put vars on the regular stack and tuple vars on  the root stack (or in registers\n",
    "- Part 1:\n",
    "    1. Pre-assign colors for all the registers\n",
    "    2. Pre-populate saturation sets for variables based on those colors\n",
    "    3. Color the variables in the  graph as normal\n",
    "- Part 2:\n",
    "    - Old version: single `color_mao: color -> loc`\n",
    "    - New version: two color maps\n",
    "        - `color_map: color -> loc` (registers + stack locations)\n",
    "        - `tuple_color_map: color -> loc` (registers + root stack locations)\n",
    "    - To populate the maps:\n",
    "        - First add all register color to both maps\n",
    "        - Then, loop over variables `x`\n",
    "            - If `x` is a tuple var:\n",
    "                - If `x` has a register color, do nothing\n",
    "                - Else, create a root stack location and assign `x`'s color to that location and increment the number of root stack locations used\n",
    "            - If `x` is a regular var:\n",
    "                - Same thing but with the regular stack"
   ]
  },
  {
   "cell_type": "markdown",
   "metadata": {
    "pycharm": {
     "name": "#%% md\n"
    }
   },
   "source": [
    "----"
   ]
  },
  {
   "cell_type": "markdown",
   "metadata": {
    "pycharm": {
     "name": "#%% md\n"
    }
   },
   "source": [
    "# Part 3: print-x86"
   ]
  },
  {
   "cell_type": "markdown",
   "metadata": {
    "pycharm": {
     "name": "#%% md\n"
    }
   },
   "source": [
    "## Question 6\n",
    "\n",
    "Write x86 assembly for the `main` block of the program:\n",
    "\n",
    "```\n",
    "x = (1, 2)\n",
    "```"
   ]
  },
  {
   "cell_type": "markdown",
   "metadata": {
    "pycharm": {
     "name": "#%% md\n"
    }
   },
   "source": [
    "We need to add boilerplate code for:\n",
    "- Initializing heap\n",
    "- Setting up root stack\n",
    "\n",
    "The new code looks like:\n",
    "```\n",
    "movq $16348, %rdi                   -- set the total allowed size of the root stack in bytes\n",
    "movq $16, %rsi                      -- set the total size of the heap\n",
    "callq initizlize                    -- sets up t he root stack and heap\n",
    "movq rootstack_begin(%rip), %r15    -- puts a pointer to the root stack in %r15\n",
    "\n",
    "```"
   ]
  },
  {
   "cell_type": "markdown",
   "metadata": {
    "pycharm": {
     "name": "#%% md\n"
    }
   },
   "source": [
    "## Question 7\n",
    "\n",
    "What additional code is needed in `main` if the root stack is non-empty? What is this code needed for? Consider e.g. the program:\n",
    "\n",
    "```\n",
    "x = (1, 2)\n",
    "y = (3, 4)\n",
    "print(x[0])\n",
    "```"
   ]
  },
  {
   "cell_type": "markdown",
   "metadata": {
    "pycharm": {
     "name": "#%% md\n"
    }
   },
   "source": [
    "```\n",
    "movq $16384, $rdi\n",
    "movq $16, %rsi\n",
    "callq initizalize\n",
    "movq rootstack_begin(%rip), %r15\n",
    "movq $0, 0(%r15)                    -- ensure that the root stack location we will use in initialized to 0\n",
    "addq $8, %r15                       -- increment the root stack pointer for the location we have used\n",
    "```\n",
    "\n",
    "The final two instructions are repeated once for each stack location used\n",
    "\n",
    "We initialize each location to 0 so the garbage collector knows that are not yet used"
   ]
  },
  {
   "cell_type": "code",
   "execution_count": null,
   "metadata": {
    "pycharm": {
     "name": "#%%\n",
     "is_executing": true
    }
   },
   "outputs": [],
   "source": [
    "asm = \"\"\"\n",
    "YOUR SOLUTION HERE\n",
    "\"\"\"\n",
    "\n",
    "emu = X86Emulator(logging=False)\n",
    "emu.eval_program(asm)\n",
    "emu.print_state()"
   ]
  }
 ],
 "metadata": {
  "kernelspec": {
   "display_name": "Python 3 (ipykernel)",
   "language": "python",
   "name": "python3"
  },
  "language_info": {
   "codemirror_mode": {
    "name": "ipython",
    "version": 3
   },
   "file_extension": ".py",
   "mimetype": "text/x-python",
   "name": "python",
   "nbconvert_exporter": "python",
   "pygments_lexer": "ipython3",
   "version": "3.10.0"
  }
 },
 "nbformat": 4,
 "nbformat_minor": 2
}