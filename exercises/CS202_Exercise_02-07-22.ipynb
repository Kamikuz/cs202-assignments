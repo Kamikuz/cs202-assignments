{
 "cells": [
  {
   "cell_type": "markdown",
   "metadata": {},
   "source": [
    "# CS202: Compiler Construction\n",
    "\n",
    "## In-class Exercises, Week of 02/07/2022\n",
    "\n",
    "----"
   ]
  },
  {
   "cell_type": "markdown",
   "metadata": {},
   "source": [
    "# Questions from Last Week"
   ]
  },
  {
   "cell_type": "markdown",
   "metadata": {},
   "source": [
    "## Question 6\n",
    "\n",
    "Describe the assign-homes pass."
   ]
  },
  {
   "cell_type": "markdown",
   "metadata": {},
   "source": [
    "- Follow the structure of x86 assembly program ASTs (ah_arg, ah_instr, ah_block)\n",
    "- Maintain a global dictionary `homes` mapping variable names to stack locations\n",
    "- When you encounter a variable\n",
    "    - If it already exists in `homes`, just return the location `homes` gives for it\n",
    "    - Else: create a new stack location\n",
    "        - Create a new AST node for the location\n",
    "            - Register: `rbp`\n",
    "            - Offset: `-(len(homes) * 8) + 8`\n",
    "        - Set `homes[x] = x86.Deref('rbp', offset)`\n",
    "        - Return `homes[x]`\n",
    "- At the end, align the stack to 16 bytes and return stack size along with program"
   ]
  },
  {
   "cell_type": "markdown",
   "metadata": {},
   "source": [
    "----\n",
    "# Patch-instructions pass"
   ]
  },
  {
   "cell_type": "markdown",
   "metadata": {},
   "source": [
    "The patch-instructions pass fixes instructions with two in-memory arguments, by using the `rax` register as a temporary location."
   ]
  },
  {
   "cell_type": "markdown",
   "metadata": {},
   "source": [
    "## Question 7\n",
    "\n",
    "What is wrong with the following instructions?\n",
    "\n",
    "```\n",
    "movq -8(%rbp), -16(%rbp)\n",
    "addq -24(%rbp), -16(%rbp)\n",
    "```"
   ]
  },
  {
   "cell_type": "markdown",
   "metadata": {},
   "source": [
    "In both instructions, both args are memory locations. In x86 assembly, only one arg is allowed to be a memory location."
   ]
  },
  {
   "cell_type": "markdown",
   "metadata": {},
   "source": [
    "## Question 8\n",
    "\n",
    "Fix the instructions above."
   ]
  },
  {
   "cell_type": "markdown",
   "metadata": {},
   "source": [
    "Use %rax as a temporary location\n",
    "```\n",
    "movq -8(%rbp), %rax\n",
    "movq %rax, -16(%rbp)\n",
    "movq -24(%rbp), %rax\n",
    "movq %rax, -16(%rbp)\n",
    "```"
   ]
  },
  {
   "cell_type": "markdown",
   "metadata": {},
   "source": [
    "## Question 9\n",
    "\n",
    "Describe the patch-instructions pass."
   ]
  },
  {
   "cell_type": "markdown",
   "metadata": {},
   "source": [
    "Whe you find an instruction with both args as memory locations:\n",
    "\n",
    "`___q a1, a2` (where a1 and a2 are memory locations)\n",
    "\n",
    "Produce:\n",
    "```\n",
    "movq a1, %rax\n",
    "___q %rax, a2\n",
    "```"
   ]
  },
  {
   "cell_type": "markdown",
   "metadata": {},
   "source": [
    "----"
   ]
  },
  {
   "cell_type": "markdown",
   "metadata": {},
   "source": [
    "# Register allocation\n",
    "\n",
    "*Register allocation* is the process of assigning register locations to program variables."
   ]
  },
  {
   "cell_type": "markdown",
   "metadata": {},
   "source": [
    "## Question 1\n",
    "\n",
    "Why is register allocation important?"
   ]
  },
  {
   "cell_type": "markdown",
   "metadata": {},
   "source": [
    "- Registers are way faster than RAM\n",
    "- We want ot put variables in registers(instead of RAM) as much as possible, to take your"
   ]
  },
  {
   "cell_type": "markdown",
   "metadata": {},
   "source": [
    "## Question 2\n",
    "\n",
    "Consider the program:\n",
    "\n",
    "```\n",
    "x = 5\n",
    "y = x + 6\n",
    "y + 7\n",
    "```\n",
    "\n",
    "Here is the equivalent in x86 assembly, using the stack to hold variable values.\n",
    "\n",
    "```\n",
    "...\n",
    "start:\n",
    "  movq $5, -8(%rbp)\n",
    "  movq -8(%rbp), %rax\n",
    "  movq %rax, -16(%rbp)\n",
    "  addq $6, -16(%rbp)\n",
    "  movq -16(%rbp), %rax\n",
    "  movq %rax, -24(%rbp)\n",
    "  addq $7, -24(%rbp)\n",
    "  movq -24(%rbp), %rax\n",
    "  jmp conclusion\n",
    "...\n",
    "```\n",
    "\n",
    "Convert this program into one that only uses registers."
   ]
  },
  {
   "cell_type": "markdown",
   "metadata": {},
   "source": [
    "- 8: r8\n",
    "- 16: r9\n",
    "- 24: r10\n",
    "\n",
    "```\n",
    "...\n",
    "start:\n",
    "  movq $5, %r8\n",
    "  movq %r8, %rax\n",
    "  movq %rax, %r9\n",
    "  addq $6, %r9\n",
    "  movq %r9, %rax\n",
    "  movq %rax, %r10\n",
    "  addq $7, %r10\n",
    "  movq %r10, %rax\n",
    "  jmp conclusion\n",
    "...\n",
    "```"
   ]
  },
  {
   "cell_type": "markdown",
   "metadata": {},
   "source": [
    "## Question 3\n",
    "\n",
    "How many registers are *actually needed* to represent this program?"
   ]
  },
  {
   "cell_type": "markdown",
   "metadata": {},
   "source": [
    "```\n",
    "...\n",
    "start:\n",
    "  movq $5, %rax\n",
    "  addq $6, %rax\n",
    "  addq $7, %rax\n",
    "  jmp conclusion\n",
    "...\n",
    "```\n",
    "We can actually do the whole program with 1 register"
   ]
  },
  {
   "cell_type": "markdown",
   "metadata": {},
   "source": [
    "## Question 4\n",
    "\n",
    "Why is *optimal* register allocation hard?"
   ]
  },
  {
   "cell_type": "markdown",
   "metadata": {},
   "source": [
    "- It's hard to understand when it's ok to re-user a register\n",
    "- Theory: there exists a reduction from graph coloring tro optimal register allocation, implying that optimal register allocation is NP-complete."
   ]
  },
  {
   "cell_type": "markdown",
   "metadata": {},
   "source": [
    "## Note\n",
    "\n",
    "Our solution to register allocation will involve three parts:\n",
    "\n",
    "1. [*Liveness analysis*](https://en.wikipedia.org/wiki/Live_variable_analysis), to understand when a variable's value is no longer needed\n",
    "2. Building an *interference graph* with edges between variables that cannot share a register\n",
    "3. Allocating registers to variables by *coloring the interference graph* ([graph coloring](https://en.wikipedia.org/wiki/Graph_coloring) is NP-hard)"
   ]
  },
  {
   "cell_type": "markdown",
   "metadata": {},
   "source": [
    "----"
   ]
  },
  {
   "cell_type": "markdown",
   "metadata": {},
   "source": [
    "# Liveness Analysis\n",
    "\n",
    "Our first pass will perform a *liveness analysis* on the program."
   ]
  },
  {
   "cell_type": "markdown",
   "metadata": {},
   "source": [
    "## Question 5\n",
    "\n",
    "Here is the pseudo-x86 equivalent of the program from earlier, written in x86 assembly syntax:\n",
    "\n",
    "```\n",
    "start:\n",
    " movq $5, x\n",
    " movq x, y\n",
    " addq $6, y\n",
    " movq y, r\n",
    " addq $7, r\n",
    " movq r, %rax\n",
    "```\n",
    "\n",
    "In the table below, annotate each instruction with its *live-after set*.\n",
    "\n",
    "Use the following rule to determine the live-after set for instruction $k$:\n",
    "\n",
    "\\begin{align}\n",
    "L_{after}(k) = (L_{after}(k+1) − W (k+1)) \\cup R(k+1)\n",
    "\\end{align}\n",
    "\n",
    "where $W$ means the variables written by the instruction, and $R$ means the variables read by an instruction. See section 3.2 in the textbook for more."
   ]
  },
  {
   "cell_type": "markdown",
   "metadata": {},
   "source": [
    "```\n",
    "start:\n",
    "\tmovq $5, x   {x}\n",
    "\tmovq x, y    {y}\n",
    "\taddq $6, y   {y}\n",
    "\tmovq y, r    {r}\n",
    "\taddq $7, r   {r}\n",
    "\tmovq r, %rax {}\n",
    "```"
   ]
  },
  {
   "cell_type": "markdown",
   "metadata": {},
   "source": [
    "## Question 6\n",
    "\n",
    "Describe the live-after pass in the compiler."
   ]
  },
  {
   "cell_type": "markdown",
   "metadata": {},
   "source": [
    "- For each block in the program:\n",
    "    - Process the instructions in reverse order (starting at the bottom)\n",
    "    - Start with the empty live-after set for the last instruction\n",
    "    - Maintain a variable containing the live-after set of the last-processed instruction\n",
    "    - Build the live-after set for the current instruction, using thg rule above\n",
    "        - You will need to write functions that tell you what variables are written and read by an instruction\n",
    "    - Add the new live-after set to the list of live-after sets\n",
    "    - When finished, reverse the list and return it"
   ]
  },
  {
   "cell_type": "markdown",
   "metadata": {},
   "source": [
    "----"
   ]
  },
  {
   "cell_type": "markdown",
   "metadata": {},
   "source": [
    "# Interference Graph\n",
    "\n",
    "Our second pass will build an *interference graph* using the live-after sets computed earlier. The interference graph is an undirected graph with a node for each program variable, and an edge between each pair of variables which may *not* share a home."
   ]
  },
  {
   "cell_type": "markdown",
   "metadata": {},
   "source": [
    "## Question 7\n",
    "\n",
    "Using the instructions and live-after sets from question 5, draw the interference graph.\n",
    "\n",
    "Use the following principle: *the writes performed by an instruction must not overwrite something in a live location*."
   ]
  },
  {
   "cell_type": "markdown",
   "metadata": {},
   "source": [
    "YOUR SOLUTION HERE"
   ]
  },
  {
   "cell_type": "markdown",
   "metadata": {},
   "source": [
    "## Question 8\n",
    "\n",
    "Using the instructions and live-after sets below, draw the interference graph.\n",
    "\n",
    "| Instruction    | Live-After Set |\n",
    "| :------------- | :------------- |\n",
    "| `start:`       | {} |\n",
    "| `movq $1, a`   | {a}|\n",
    "| `movq $2, b`   | {a, b} |\n",
    "| `movq $3, c`   | {a, b, c} |\n",
    "| `movq a, t`    | {b, c, t} |\n",
    "| `addq b, t`    | {c, t} |\n",
    "| `movq t, r`    | {c, r} |\n",
    "| `addq c, r`    | {r} |\n",
    "| `movq r, %rax` | {}  |\n"
   ]
  },
  {
   "cell_type": "markdown",
   "metadata": {},
   "source": [
    "YOUR SOLUTION HERE"
   ]
  },
  {
   "cell_type": "markdown",
   "metadata": {},
   "source": [
    "## Question 9\n",
    "\n",
    "What variables in the above graph can share a register? What variables can't?"
   ]
  },
  {
   "cell_type": "markdown",
   "metadata": {},
   "source": [
    "YOUR SOLUTION HERE"
   ]
  }
 ],
 "metadata": {
  "kernelspec": {
   "display_name": "Python 3 (ipykernel)",
   "language": "python",
   "name": "python3"
  },
  "language_info": {
   "codemirror_mode": {
    "name": "ipython",
    "version": 3
   },
   "file_extension": ".py",
   "mimetype": "text/x-python",
   "name": "python",
   "nbconvert_exporter": "python",
   "pygments_lexer": "ipython3",
   "version": "3.10.0"
  }
 },
 "nbformat": 4,
 "nbformat_minor": 4
}