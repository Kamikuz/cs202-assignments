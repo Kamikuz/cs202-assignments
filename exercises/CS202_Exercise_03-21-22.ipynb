{
 "cells": [
  {
   "cell_type": "markdown",
   "metadata": {},
   "source": [
    "# CS202: Compiler Construction\n",
    "\n",
    "## In-class Exercises, Week of 03/21/2022\n",
    "\n",
    "----"
   ]
  },
  {
   "cell_type": "markdown",
   "metadata": {},
   "source": [
    "# Part 1: While Loops"
   ]
  },
  {
   "cell_type": "markdown",
   "metadata": {},
   "source": [
    "## Question 1\n",
    "\n",
    "Compile the following program to $\\mathcal{C}_{if}$:\n",
    "\n",
    "```\n",
    "i = 10\n",
    "sum = 0\n",
    "while i > 0:\n",
    "    i = i - 1\n",
    "    sum = sum + i\n",
    "print(sum)\n",
    "```"
   ]
  },
  {
   "cell_type": "markdown",
   "metadata": {},
   "source": [
    "Create test_label for the test, body_label for the body statements test_label has an if statement that goes to body_label if the test passes body_label goes back to test_label shen it's finished.\n",
    "```\n",
    "start:\n",
    "\ti = 10\n",
    "\tsum = 0\n",
    "\tgoto test_label\n",
    "test_label:\n",
    "\tif i > 0: goto body_label\n",
    "body_label:\n",
    "\ti = i - 1\n",
    "\tsum = sum + i\n",
    "\tgoto test_label\n",
    "cont_label:\n",
    "\tprint(sum)\n",
    "\tgoto conclusion\n",
    "```"
   ]
  },
  {
   "cell_type": "markdown",
   "metadata": {},
   "source": [
    "## Question 2\n",
    "\n",
    "Compile the program above into pseudo-x86 assembly."
   ]
  },
  {
   "cell_type": "markdown",
   "metadata": {},
   "source": [
    "```\n",
    "start:\n",
    "\tmovq $10, i\n",
    "\tmovq $0, sum\n",
    "\tjmp test_label\n",
    "test_label:\n",
    "\tcmpq $0, i\n",
    "\tjgt body_label\n",
    "\tjmp cont_label\n",
    "body_label:\n",
    "\tsubq $1, i\n",
    "\taddq i, sum\n",
    "\tjmp test_label\n",
    "cont_label:\n",
    "\tmovq sum, %rdi\n",
    "\tcall print_int\n",
    "\tjmp conclusion\n",
    "```"
   ]
  },
  {
   "cell_type": "markdown",
   "metadata": {},
   "source": [
    "## Question 3\n",
    "\n",
    "Describe the major changes to the compiler, up to *select instructions*."
   ]
  },
  {
   "cell_type": "markdown",
   "metadata": {},
   "source": [
    "- Typechecker:\n",
    "    - Add a case for while\n",
    "        - Test is a boolean\n",
    "        - Body statements are well-typed\n",
    "- RCO\n",
    "    - Add a case for while\n",
    "    - While is not an operator, so its subexpression don't need to be atomic\n",
    "    - Call rco_exp on the test, with atomic=False\n",
    "        - Generate a Begin node for the test, that includes the new bindings from calling rco_exp on the test\n",
    "        - Begin(stmts, exp) is an AST node that runs stmts then evaluates to exp\n",
    "    - Call rco_stmts on the body statements\n",
    "- Explicate Control\n",
    "    - From above:\n",
    "        1. Create test_label for the test, body_label for the body statements\n",
    "        2. test_label has an if statement that goes to body_label if the test passes\n",
    "        3. body_label goes back to test_label shen it's finished\n",
    "    - Implementation:\n",
    "        In explicate_stmts, with a current_label and cont_label:\n",
    "        For the case While(Begin([], test), body_stmts):\n",
    "        1. Create labels (test_label. body_label, new_cont_label)\n",
    "        2. Compile test into new_test w/ explicate_exp\n",
    "        3. Add if statement to test_label:\n",
    "            cif.If(new_test, cif.Goto(body_label), cif.Goto(new_cont_label))\n",
    "        4. Compile body_stmts w/ current_label = body_label, cont_label = test_label (so that when the loop body finishes, it jumps back to the test)\n",
    "        5. Set current_label = new_cont_label\n",
    "- Select Instructions       **No changes**\n",
    "- Liveness Analysis\n",
    "\t- Become a dataflow analysis\n",
    "- Build Interference Graph  **No changes**\n",
    "- Allocate Registers        **No changes**\n",
    "- Patch Instructions        **No changes**\n",
    "- Print x86                 **No changes**"
   ]
  },
  {
   "cell_type": "markdown",
   "metadata": {},
   "source": [
    "# Part 2: Dataflow Analysis"
   ]
  },
  {
   "cell_type": "markdown",
   "metadata": {},
   "source": [
    "## Question 4\n",
    "\n",
    "Perform liveness analysis on the pseudo-x86 program from Question 2."
   ]
  },
  {
   "cell_type": "markdown",
   "metadata": {},
   "source": [
    "- Computing live-before for test_label requires knowing live-before for body_label\n",
    "- Computing live-before for body_label requires knowing live-before for test_label\n",
    "- Thus, we're in an infinite loop\n",
    "\n",
    "```\n",
    "start:\n",
    "\tmovq $10, i\n",
    "\tmovq $0, sum    {\n",
    "\tjmp test_label  {}\n",
    "test_label:\n",
    "\tcmpq $0, i\n",
    "\tjgt body_label  {sum}\n",
    "\tjmp cont_label  {}\n",
    "body_label:\n",
    "\tsubq $1, i\n",
    "\taddq i, sum     {\n",
    "\tjmp test_label  {}\n",
    "cont_label:         {sum}\n",
    "\tmovq sum, %rdi  {}\n",
    "\tcall print_int  {}\n",
    "\tjmp conclusion  {}\n",
    "```"
   ]
  },
  {
   "cell_type": "markdown",
   "metadata": {},
   "source": [
    "## Question 5\n",
    "\n",
    "Describe the idea of dataflow analysis on cyclic control-flow graphs."
   ]
  },
  {
   "cell_type": "markdown",
   "metadata": {},
   "source": [
    "(Section 5.2)\n",
    "\n",
    "Dataflow analysis allows us to analyze cyclic CFGs.\n",
    "\n",
    "Process:\n",
    "1. Start with an under-approximation of the answer\n",
    "2. Iteratively improve the answer until you reach a fixpoint\n",
    "\n",
    "Under-approximation = potentially vail answer for some executions of the program\n",
    "Over-approximation = valid answer for All executions of the program\n",
    "Fixpoint = run the analysis again => get the same answer\n",
    "\n",
    "For liveness analysis:\n",
    "1. Starting under-approximation = all blocks have empty live-before sets\n",
    "2. Repeat the analysis until all blocks live-before sets stay the same"
   ]
  },
  {
   "cell_type": "markdown",
   "metadata": {},
   "source": [
    "## Question 6\n",
    "\n",
    "Use the dataflow-based approach to perform liveness analysis on the pseudo-x86 program above."
   ]
  },
  {
   "cell_type": "markdown",
   "metadata": {},
   "source": [
    "```\n",
    "start:              {}\n",
    "\tmovq $10, i     {i}\n",
    "\tmovq $0, sum    {i, sum}\n",
    "\tjmp test_label  {}\n",
    "test_label:         {i, sum}\n",
    "\tcmpq $0, i      {i, sum}\n",
    "\tjgt body_label  {sum}\n",
    "\tjmp cont_label  {}\n",
    "body_label:         {i, sum}\n",
    "\tsubq $1, i      {i, sum}\n",
    "\taddq i, sum     {i, sum}\n",
    "\tjmp test_label  {}\n",
    "cont_label:         {sum}\n",
    "\tmovq sum, %rdi  {}\n",
    "\tcall print_int  {}\n",
    "\tjmp conclusion  {}\n",
    "```"
   ]
  },
  {
   "cell_type": "markdown",
   "metadata": {},
   "source": [
    "## Question 7\n",
    "\n",
    "How do we know the dataflow analysis will stop (i.e. not loop forever)?"
   ]
  },
  {
   "cell_type": "markdown",
   "metadata": {},
   "source": [
    "- Every program has a finite number of variables\n",
    "- Our analysis performs unions on sets of variables\n",
    "- In the worst case, every variable will be live at every program location\n",
    "- In this case, the live-before sets will eventually grow to include all variables\n",
    "- If I run my analysis again, there's nothing left to add to those sets(they already have all the variables in them)\n",
    "- So I have reached a fixpoint"
   ]
  },
  {
   "cell_type": "markdown",
   "metadata": {},
   "source": [
    "## Question 8\n",
    "\n",
    "What changes are required for the rest of the compiler?"
   ]
  },
  {
   "cell_type": "markdown",
   "metadata": {
    "pycharm": {
     "name": "#%% md\n"
    }
   },
   "source": [
    "No changes are required."
   ]
  }
 ],
 "metadata": {
  "kernelspec": {
   "display_name": "Python 3 (ipykernel)",
   "language": "python",
   "name": "python3"
  },
  "language_info": {
   "codemirror_mode": {
    "name": "ipython",
    "version": 3
   },
   "file_extension": ".py",
   "mimetype": "text/x-python",
   "name": "python",
   "nbconvert_exporter": "python",
   "pygments_lexer": "ipython3",
   "version": "3.10.0"
  }
 },
 "nbformat": 4,
 "nbformat_minor": 4
}